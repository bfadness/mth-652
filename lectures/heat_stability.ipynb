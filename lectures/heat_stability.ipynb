{
 "cells": [
  {
   "cell_type": "markdown",
   "metadata": {},
   "source": [
    "## Stability of ODE methods for the heat equation"
   ]
  },
  {
   "cell_type": "code",
   "execution_count": 1,
   "metadata": {},
   "outputs": [],
   "source": [
    "import mfem.ser as mfem\n",
    "import numpy as np\n",
    "import time\n",
    "from glvis import glvis"
   ]
  },
  {
   "cell_type": "code",
   "execution_count": 2,
   "metadata": {},
   "outputs": [
    {
     "name": "stdout",
     "output_type": "stream",
     "text": [
      "Number of unknowns: 441\n"
     ]
    }
   ],
   "source": [
    "order = 1\n",
    "mesh = mfem.Mesh(20, 20, \"TRIANGLE\")\n",
    "dim = mesh.Dimension()\n",
    "\n",
    "fec = mfem.H1_FECollection(order, dim)\n",
    "fes = mfem.FiniteElementSpace(mesh, fec)\n",
    "\n",
    "print(\"Number of unknowns: \" + str(fes.GetVSize()))\n",
    "\n",
    "def s1d(k, x):\n",
    "    return np.sin(2*k*np.pi*x)\n",
    "def u1d(k, x):\n",
    "    skx = s1d(k, x)\n",
    "    if skx == 0.0:\n",
    "        return 0.0\n",
    "    else:\n",
    "        return np.exp(-1.0 / (skx**2)) * np.sign(skx)\n",
    "def w1d(n, x):\n",
    "    val = 0.0\n",
    "    for j in range(0, n):\n",
    "        val += u1d(3**j, x)\n",
    "    return val\n",
    "\n",
    "class InitialCondition(mfem.PyCoefficient):\n",
    "    def EvalValue(self, xvec):\n",
    "        val = 1.0\n",
    "        for x in xvec:\n",
    "            val *= w1d(1, x)\n",
    "        return val\n",
    "\n",
    "ic_coeff = InitialCondition()\n",
    "\n",
    "u = mfem.GridFunction(fes)\n",
    "u.ProjectCoefficient(ic_coeff)"
   ]
  },
  {
   "cell_type": "code",
   "execution_count": 3,
   "metadata": {},
   "outputs": [
    {
     "data": {
      "application/vnd.jupyter.widget-view+json": {
       "model_id": "b6305e193233450995986e652441a339",
       "version_major": 2,
       "version_minor": 1
      },
      "text/plain": [
       "_GlvisWidgetCore(data_str='solution\\nMFEM mesh v1.0\\n\\n#\\n# MFEM Geometry Types (see fem/geom.hpp):\\n#\\n# POIN…"
      ]
     },
     "execution_count": 3,
     "metadata": {},
     "output_type": "execute_result"
    }
   ],
   "source": [
    "glvis((mesh, u))"
   ]
  },
  {
   "cell_type": "code",
   "execution_count": 4,
   "metadata": {},
   "outputs": [],
   "source": [
    "one = mfem.ConstantCoefficient(1.0)\n",
    "\n",
    "m = mfem.BilinearForm(fes)\n",
    "m.AddDomainIntegrator(mfem.MassIntegrator())\n",
    "k = mfem.BilinearForm(fes)\n",
    "k.AddDomainIntegrator(mfem.DiffusionIntegrator())\n",
    "b = mfem.LinearForm(fes)\n",
    "b.AddDomainIntegrator(mfem.DomainLFIntegrator(one))\n",
    "\n",
    "m.Assemble()\n",
    "m.Finalize()\n",
    "k.Assemble()\n",
    "k.Finalize()\n",
    "b.Assemble()\n",
    "\n",
    "ess_dofs = mfem.intArray()\n",
    "ess_bdr = mfem.intArray([1]*mesh.bdr_attributes.Size())\n",
    "fes.GetEssentialTrueDofs(ess_bdr, ess_dofs)\n",
    "\n",
    "M = mfem.OperatorPtr()\n",
    "K = mfem.OperatorPtr()\n",
    "m.FormSystemMatrix(ess_dofs, M)\n",
    "k.FormSystemMatrix(ess_dofs, K)\n"
   ]
  },
  {
   "cell_type": "markdown",
   "metadata": {},
   "source": [
    "### Solve and Plot the Solution with GLVis"
   ]
  },
  {
   "cell_type": "code",
   "execution_count": 5,
   "metadata": {},
   "outputs": [
    {
     "data": {
      "application/vnd.jupyter.widget-view+json": {
       "model_id": "14340f0a27744872a78a84db3d81e8c7",
       "version_major": 2,
       "version_minor": 1
      },
      "text/plain": [
       "_GlvisWidgetCore(data_str='solution\\nMFEM mesh v1.0\\n\\n#\\n# MFEM Geometry Types (see fem/geom.hpp):\\n#\\n# POIN…"
      ]
     },
     "metadata": {},
     "output_type": "display_data"
    },
    {
     "name": "stdout",
     "output_type": "stream",
     "text": [
      "time step: 100, time: 1.00e-01, 0\r"
     ]
    }
   ],
   "source": [
    "u.ProjectCoefficient(ic_coeff)\n",
    "\n",
    "g = glvis((mesh, u))\n",
    "g.render()\n",
    "\n",
    "class FE_Evolution(mfem.PyTimeDependentOperator):\n",
    "    def __init__(self, M, K, b):\n",
    "        mfem.PyTimeDependentOperator.__init__(self, M.Size())\n",
    "        self.K = K\n",
    "        self.M = M\n",
    "        self.b = b\n",
    "        self.z = mfem.Vector(M.Size())\n",
    "        self.zp = np.zeros(M.Size())\n",
    "        self.M_prec = mfem.DSmoother()\n",
    "        self.M_solver = mfem.CGSolver()\n",
    "        self.M_solver.SetPreconditioner(self.M_prec)\n",
    "        self.M_solver.SetOperator(M)\n",
    "        self.M_solver.iterative_mode = False\n",
    "        self.M_solver.SetRelTol(1e-9)\n",
    "        self.M_solver.SetMaxIter(1000)\n",
    "        self.M_solver.SetPrintLevel(0)\n",
    "\n",
    "        self.A_prec = mfem.GSSmoother()\n",
    "        self.A_solver = mfem.CGSolver()\n",
    "        self.A_solver.SetPreconditioner(self.A_prec)\n",
    "        self.A_solver.iterative_mode = False\n",
    "        self.A_solver.SetRelTol(1e-9)\n",
    "        self.A_solver.SetMaxIter(1000)\n",
    "        self.A_solver.SetPrintLevel(0)\n",
    "\n",
    "    def Mult(self, x, y):\n",
    "        self.K.Mult(x, self.z)\n",
    "        self.z *= -1.0\n",
    "        self.z += b\n",
    "        self.M_solver.Mult(self.z, y)\n",
    "\n",
    "    def ImplicitSolve(self, gamma, u, k):\n",
    "        B = mfem.Add(1.0, self.M, gamma, self.K)\n",
    "        self.A_solver.SetOperator(B)\n",
    "        self.K.Mult(u, self.z)\n",
    "        self.z *= -1.0\n",
    "        self.z += b\n",
    "        self.A_solver.Mult(self.z, k)\n",
    "\n",
    "\n",
    "heat_eq = FE_Evolution(mfem.OperatorHandle2SparseMatrix(M), mfem.OperatorHandle2SparseMatrix(K), b)\n",
    "\n",
    "# ode_solver = mfem.ForwardEulerSolver()\n",
    "ode_solver = mfem.BackwardEulerSolver()\n",
    "# ode_solver = mfem.TrapezoidalRuleSolver() # Crank-Nicolson\n",
    "ode_solver.Init(heat_eq)\n",
    "\n",
    "t = 0.0\n",
    "ti = 0\n",
    "dt = 1e-3\n",
    "t_final = 1e-1\n",
    "vis_steps = 5\n",
    "end = False\n",
    "\n",
    "time.sleep(1)\n",
    "while not end:\n",
    "    if t > t_final - dt/2: break\n",
    "    t, dt = ode_solver.Step(u, t, dt);\n",
    "    ti = ti + 1\n",
    "    if u.Normlinf() > 1e4:\n",
    "        print(\"Unstable!\")\n",
    "        end = True\n",
    "    if ti % vis_steps == 0 or end:\n",
    "        g.update((mesh, u))\n",
    "        time.sleep(0.05)\n",
    "        print(f\"time step: {ti}, time: {t:.2e}, {u.CheckFinite()}\", end=\"\\r\")"
   ]
  }
 ],
 "metadata": {
  "kernelspec": {
   "display_name": ".venv",
   "language": "python",
   "name": "python3"
  },
  "language_info": {
   "codemirror_mode": {
    "name": "ipython",
    "version": 3
   },
   "file_extension": ".py",
   "mimetype": "text/x-python",
   "name": "python",
   "nbconvert_exporter": "python",
   "pygments_lexer": "ipython3",
   "version": "3.12.7"
  }
 },
 "nbformat": 4,
 "nbformat_minor": 4
}
