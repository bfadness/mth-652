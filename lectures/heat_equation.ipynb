{
 "cells": [
  {
   "cell_type": "markdown",
   "metadata": {},
   "source": [
    "## Heat equation and the Poisson problem"
   ]
  },
  {
   "cell_type": "code",
   "execution_count": 1,
   "metadata": {},
   "outputs": [],
   "source": [
    "import mfem.ser as mfem\n",
    "import numpy as np\n",
    "import time\n",
    "from glvis import glvis"
   ]
  },
  {
   "cell_type": "code",
   "execution_count": 2,
   "metadata": {},
   "outputs": [
    {
     "name": "stdout",
     "output_type": "stream",
     "text": [
      "Number of unknowns: 961\n"
     ]
    }
   ],
   "source": [
    "order = 2\n",
    "mesh = mfem.Mesh(15, 15, \"TRIANGLE\")\n",
    "dim = mesh.Dimension()\n",
    "\n",
    "fec = mfem.H1_FECollection(order, dim)\n",
    "fes = mfem.FiniteElementSpace(mesh, fec)\n",
    "\n",
    "print(\"Number of unknowns: \" + str(fes.GetVSize()))\n",
    "\n",
    "def s1d(k, x):\n",
    "    return np.sin(2*k*np.pi*x)\n",
    "def u1d(k, x):\n",
    "    skx = s1d(k, x)\n",
    "    if skx == 0.0:\n",
    "        return 0.0\n",
    "    else:\n",
    "        return np.exp(-1.0 / (skx**2)) * np.sign(skx)\n",
    "def w1d(n, x):\n",
    "    val = 0.0\n",
    "    for j in range(0, n):\n",
    "        val += u1d(3**j, x)\n",
    "    return val\n",
    "\n",
    "class InitialCondition(mfem.PyCoefficient):\n",
    "    def EvalValue(self, xvec):\n",
    "        val = 1.0\n",
    "        for x in xvec:\n",
    "            val *= w1d(4, x)\n",
    "        return val\n",
    "\n",
    "ic_coeff = InitialCondition()\n",
    "\n",
    "u = mfem.GridFunction(fes)\n",
    "u.ProjectCoefficient(ic_coeff)"
   ]
  },
  {
   "cell_type": "code",
   "execution_count": 3,
   "metadata": {},
   "outputs": [
    {
     "data": {
      "application/vnd.jupyter.widget-view+json": {
       "model_id": "e0b9b36f492747e4924da0e72b566e65",
       "version_major": 2,
       "version_minor": 1
      },
      "text/plain": [
       "_GlvisWidgetCore(data_str='solution\\nMFEM mesh v1.0\\n\\n#\\n# MFEM Geometry Types (see fem/geom.hpp):\\n#\\n# POIN…"
      ]
     },
     "execution_count": 3,
     "metadata": {},
     "output_type": "execute_result"
    }
   ],
   "source": [
    "glvis((mesh, u))"
   ]
  },
  {
   "cell_type": "code",
   "execution_count": 4,
   "metadata": {},
   "outputs": [],
   "source": [
    "one = mfem.ConstantCoefficient(1.0)\n",
    "\n",
    "m = mfem.BilinearForm(fes)\n",
    "m.AddDomainIntegrator(mfem.MassIntegrator())\n",
    "k = mfem.BilinearForm(fes)\n",
    "k.AddDomainIntegrator(mfem.DiffusionIntegrator())\n",
    "b = mfem.LinearForm(fes)\n",
    "b.AddDomainIntegrator(mfem.DomainLFIntegrator(one))\n",
    "\n",
    "m.Assemble()\n",
    "m.Finalize()\n",
    "k.Assemble()\n",
    "k.Finalize()\n",
    "b.Assemble()\n",
    "\n",
    "ess_dofs = mfem.intArray()\n",
    "ess_bdr = mfem.intArray([1]*mesh.bdr_attributes.Size())\n",
    "fes.GetEssentialTrueDofs(ess_bdr, ess_dofs)\n",
    "\n",
    "M = mfem.OperatorPtr()\n",
    "K = mfem.OperatorPtr()\n",
    "m.FormSystemMatrix(ess_dofs, M)\n",
    "k.FormSystemMatrix(ess_dofs, K)\n"
   ]
  },
  {
   "cell_type": "markdown",
   "metadata": {},
   "source": [
    "### Solve and Plot the Solution with GLVis"
   ]
  },
  {
   "cell_type": "code",
   "execution_count": 5,
   "metadata": {},
   "outputs": [
    {
     "data": {
      "application/vnd.jupyter.widget-view+json": {
       "model_id": "cf33550e660d4a8c85ec88d65e659b76",
       "version_major": 2,
       "version_minor": 1
      },
      "text/plain": [
       "_GlvisWidgetCore(data_str='solution\\nMFEM mesh v1.0\\n\\n#\\n# MFEM Geometry Types (see fem/geom.hpp):\\n#\\n# POIN…"
      ]
     },
     "metadata": {},
     "output_type": "display_data"
    },
    {
     "name": "stdout",
     "output_type": "stream",
     "text": [
      "time step: 5000, time: 1.00e-01\r"
     ]
    }
   ],
   "source": [
    "u.ProjectCoefficient(ic_coeff)\n",
    "\n",
    "g = glvis((mesh, u))\n",
    "g.render()\n",
    "\n",
    "class FE_Evolution(mfem.PyTimeDependentOperator):\n",
    "    def __init__(self, M, K, b):\n",
    "        mfem.PyTimeDependentOperator.__init__(self, M.Size())\n",
    "        self.K = K\n",
    "        self.M = M\n",
    "        self.b = b\n",
    "        self.z = mfem.Vector(M.Size())\n",
    "        self.zp = np.zeros(M.Size())\n",
    "        self.M_prec = mfem.DSmoother()\n",
    "        self.M_solver = mfem.CGSolver()\n",
    "        self.M_solver.SetPreconditioner(self.M_prec)\n",
    "        self.M_solver.SetOperator(M)\n",
    "        self.M_solver.iterative_mode = False\n",
    "        self.M_solver.SetRelTol(1e-9)\n",
    "        self.M_solver.SetAbsTol(0.0)\n",
    "        self.M_solver.SetMaxIter(1000)\n",
    "        self.M_solver.SetPrintLevel(0)\n",
    "\n",
    "    def Mult(self, x, y):\n",
    "        self.K.Mult(x, self.z)\n",
    "        self.z *= -1.0\n",
    "        self.z += b\n",
    "        self.M_solver.Mult(self.z, y)\n",
    "\n",
    "heat_eq = FE_Evolution(mfem.OperatorHandle2SparseMatrix(M), mfem.OperatorHandle2SparseMatrix(K), b)\n",
    "\n",
    "ode_solver = mfem.RK4Solver()\n",
    "ode_solver.Init(heat_eq)\n",
    "\n",
    "t = 0.0\n",
    "ti = 0\n",
    "dt = 2e-5\n",
    "t_final = 1e-1\n",
    "vis_steps = 5\n",
    "\n",
    "time.sleep(1)\n",
    "while True:\n",
    "    if t > t_final - dt/2: break\n",
    "    t, dt = ode_solver.Step(u, t, dt);\n",
    "    ti = ti + 1\n",
    "    if ti % vis_steps == 0:\n",
    "        g.update((mesh, u))\n",
    "        time.sleep(0.05)\n",
    "        print(f\"time step: {ti}, time: {t:.2e}\", end=\"\\r\")"
   ]
  },
  {
   "cell_type": "code",
   "execution_count": 6,
   "metadata": {},
   "outputs": [
    {
     "name": "stdout",
     "output_type": "stream",
     "text": [
      "   Iteration :   0  (B r, r) = 0.000602859\n",
      "   Iteration :   1  (B r, r) = 0.0024524\n",
      "   Iteration :   2  (B r, r) = 0.00153827\n",
      "   Iteration :   3  (B r, r) = 0.00144781\n",
      "   Iteration :   4  (B r, r) = 0.00101203\n",
      "   Iteration :   5  (B r, r) = 0.0005568\n",
      "   Iteration :   6  (B r, r) = 0.000422366\n",
      "   Iteration :   7  (B r, r) = 0.000219666\n",
      "   Iteration :   8  (B r, r) = 9.26023e-05\n",
      "   Iteration :   9  (B r, r) = 3.95966e-05\n",
      "   Iteration :  10  (B r, r) = 6.48771e-06\n",
      "   Iteration :  11  (B r, r) = 8.63137e-07\n",
      "   Iteration :  12  (B r, r) = 7.02825e-07\n",
      "   Iteration :  13  (B r, r) = 1.58876e-07\n",
      "   Iteration :  14  (B r, r) = 3.94279e-08\n",
      "   Iteration :  15  (B r, r) = 1.13906e-08\n",
      "   Iteration :  16  (B r, r) = 2.96043e-09\n",
      "   Iteration :  17  (B r, r) = 5.52115e-10\n",
      "   Iteration :  18  (B r, r) = 1.19956e-10\n",
      "   Iteration :  19  (B r, r) = 4.89176e-11\n",
      "   Iteration :  20  (B r, r) = 5.14877e-11\n",
      "   Iteration :  21  (B r, r) = 3.20895e-11\n",
      "   Iteration :  22  (B r, r) = 5.31104e-12\n",
      "   Iteration :  23  (B r, r) = 4.92075e-13\n",
      "   Iteration :  24  (B r, r) = 7.2969e-14\n",
      "   Iteration :  25  (B r, r) = 1.86864e-14\n",
      "   Iteration :  26  (B r, r) = 6.28681e-15\n",
      "   Iteration :  27  (B r, r) = 1.25065e-15\n",
      "   Iteration :  28  (B r, r) = 3.16967e-16\n",
      "Average reduction factor = 0.603571\n"
     ]
    },
    {
     "data": {
      "application/vnd.jupyter.widget-view+json": {
       "model_id": "92dc1932f9fc480791e48f75e73913e2",
       "version_major": 2,
       "version_minor": 1
      },
      "text/plain": [
       "_GlvisWidgetCore(data_str='solution\\nMFEM mesh v1.0\\n\\n#\\n# MFEM Geometry Types (see fem/geom.hpp):\\n#\\n# POIN…"
      ]
     },
     "execution_count": 6,
     "metadata": {},
     "output_type": "execute_result"
    }
   ],
   "source": [
    "u.Assign(0.0)\n",
    "U = mfem.Vector()\n",
    "B = mfem.Vector()\n",
    "k.FormLinearSystem(ess_dofs, u, b, K, U, B)\n",
    "\n",
    "# solve it using PCG solver and store the solution to x\n",
    "GS = mfem.GSSmoother(mfem.OperatorHandle2SparseMatrix(K))\n",
    "mfem.PCG(K, GS, B, U, 1, 200, 1e-12, 0.0)\n",
    "k.RecoverFEMSolution(U, b, u)\n",
    "\n",
    "glvis((mesh, u))"
   ]
  }
 ],
 "metadata": {
  "kernelspec": {
   "display_name": ".venv",
   "language": "python",
   "name": "python3"
  },
  "language_info": {
   "codemirror_mode": {
    "name": "ipython",
    "version": 3
   },
   "file_extension": ".py",
   "mimetype": "text/x-python",
   "name": "python",
   "nbconvert_exporter": "python",
   "pygments_lexer": "ipython3",
   "version": "3.12.7"
  }
 },
 "nbformat": 4,
 "nbformat_minor": 4
}
