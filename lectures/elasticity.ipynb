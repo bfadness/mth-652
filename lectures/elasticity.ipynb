{
 "cells": [
  {
   "cell_type": "markdown",
   "metadata": {},
   "source": [
    "## Linear Elasticity"
   ]
  },
  {
   "cell_type": "code",
   "execution_count": 1,
   "metadata": {},
   "outputs": [],
   "source": [
    "import mfem.ser as mfem\n",
    "import numpy as np\n",
    "import time\n",
    "from glvis import glvis"
   ]
  },
  {
   "cell_type": "code",
   "execution_count": 2,
   "metadata": {},
   "outputs": [],
   "source": [
    "# Polynomial degree\n",
    "order = 1\n",
    "\n",
    "# Rectangular mesh\n",
    "mesh = mfem.Mesh(\"beam-tri.mesh\")\n",
    "\n",
    "# Refine uniformly twice\n",
    "mesh.UniformRefinement()\n",
    "mesh.UniformRefinement()\n",
    "\n",
    "# dim = 2 for this test case\n",
    "dim = mesh.Dimension()\n",
    "\n",
    "# H^1 finite elements, with order = 1\n",
    "fec = mfem.H1_FECollection(order, dim)\n",
    "\n",
    "# Create the finite element space. Note that dim for the third argument creates\n",
    "# the space V_h = [W_h]^d, where W_h is the scalar space in H^1.\n",
    "fes = mfem.FiniteElementSpace(mesh, fec, dim)"
   ]
  },
  {
   "cell_type": "code",
   "execution_count": null,
   "metadata": {},
   "outputs": [],
   "source": [
    "mesh.SetNodalFESpace(fes)\n",
    "orig_nodes = mfem.Vector(mesh.GetNodes())\n",
    "glvis(mesh)"
   ]
  },
  {
   "cell_type": "code",
   "execution_count": null,
   "metadata": {},
   "outputs": [],
   "source": [
    "print(\"Number of unknowns:\", fes.GetVSize())"
   ]
  },
  {
   "cell_type": "code",
   "execution_count": null,
   "metadata": {},
   "outputs": [],
   "source": [
    "# ess_bdr is an array of 1s and 0s. We put a 1 in the place where the boundary\n",
    "# attribute is 'essential' (i.e. displacement, Dirichlet), and 0 in the place\n",
    "# where the boundary is natural (i.e. traction, Neumann)\n",
    "ess_bdr = mfem.intArray([1, 0, 0])\n",
    "\n",
    "# Get the list of essential DOFs\n",
    "ess_tdof_list = mfem.intArray()\n",
    "fes.GetEssentialTrueDofs(ess_bdr, ess_tdof_list)\n",
    "\n",
    "print(\"Number of essential BC DOFs:\", ess_tdof_list.Size())"
   ]
  },
  {
   "cell_type": "code",
   "execution_count": 15,
   "metadata": {},
   "outputs": [],
   "source": [
    "# Define the Lamé parameters (piecewise constants according to the two mesh\n",
    "# attributes)\n",
    "lambda_vec = mfem.Vector([2.0, 1.0])\n",
    "lambda_coeff = mfem.PWConstCoefficient(lambda_vec)\n",
    "\n",
    "mu_vec = mfem.Vector([2.0, 1.0])\n",
    "mu_coeff = mfem.PWConstCoefficient(mu_vec)"
   ]
  },
  {
   "cell_type": "code",
   "execution_count": 16,
   "metadata": {},
   "outputs": [],
   "source": [
    "# Create the elasticity bilinear form with given lambda and mu\n",
    "a = mfem.BilinearForm(fes)\n",
    "a.AddDomainIntegrator(mfem.ElasticityIntegrator(lambda_coeff, mu_coeff))\n",
    "a.Assemble()"
   ]
  },
  {
   "cell_type": "code",
   "execution_count": 17,
   "metadata": {},
   "outputs": [],
   "source": [
    "# Add the pull-down force on the right part of the boundary to the right-hand\n",
    "# side vector\n",
    "f = mfem.VectorArrayCoefficient(dim)\n",
    "\n",
    "# There is no force anywhere in the x-direction\n",
    "f.Set(0, mfem.ConstantCoefficient(0.0))\n",
    "\n",
    "# In the y-direction, there is a force of 1e-2 downwards on boundary attribute 2\n",
    "pull_force = mfem.Vector([0, -1e-2, 0])\n",
    "f.Set(1, mfem.PWConstCoefficient(pull_force))\n",
    "\n",
    "b = mfem.LinearForm(fes)\n",
    "b.AddBoundaryIntegrator(mfem.VectorBoundaryLFIntegrator(f))\n",
    "b.Assemble()"
   ]
  },
  {
   "cell_type": "code",
   "execution_count": 18,
   "metadata": {},
   "outputs": [],
   "source": [
    "x = mfem.GridFunction(fes)"
   ]
  },
  {
   "cell_type": "code",
   "execution_count": 19,
   "metadata": {},
   "outputs": [],
   "source": [
    "# Form the linear system: eliminate boundary conditions, etc.\n",
    "A = mfem.SparseMatrix()\n",
    "B = mfem.Vector()\n",
    "X = mfem.Vector()\n",
    "x.Assign(0.0)\n",
    "a.FormLinearSystem(ess_tdof_list, x, b, A, X, B)"
   ]
  },
  {
   "cell_type": "code",
   "execution_count": null,
   "metadata": {},
   "outputs": [],
   "source": [
    "# Gauss-Seidel preconditioner\n",
    "M = mfem.GSSmoother(A)\n",
    "# Preconditioned conjugate-gradient solver\n",
    "mfem.PCG(A, M, B, X, 1, 500, 1e-8, 0.0)"
   ]
  },
  {
   "cell_type": "code",
   "execution_count": 21,
   "metadata": {},
   "outputs": [],
   "source": [
    "# Recover the solution as a finite element grid function.\n",
    "a.RecoverFEMSolution(X, b, x)"
   ]
  },
  {
   "cell_type": "code",
   "execution_count": 22,
   "metadata": {},
   "outputs": [],
   "source": [
    "nodes = mesh.GetNodes()\n",
    "nodes.Assign(orig_nodes)\n",
    "nodes += x\n",
    "y = mfem.GridFunction(fes)\n",
    "y.Assign(x)\n",
    "y *= -1.0"
   ]
  },
  {
   "cell_type": "code",
   "execution_count": null,
   "metadata": {},
   "outputs": [],
   "source": [
    "glvis((mesh, y), keys=\"jR\")"
   ]
  },
  {
   "cell_type": "code",
   "execution_count": null,
   "metadata": {},
   "outputs": [],
   "source": []
  },
  {
   "cell_type": "code",
   "execution_count": null,
   "metadata": {},
   "outputs": [],
   "source": []
  }
 ],
 "metadata": {
  "kernelspec": {
   "display_name": ".venv",
   "language": "python",
   "name": "python3"
  },
  "language_info": {
   "codemirror_mode": {
    "name": "ipython",
    "version": 3
   },
   "file_extension": ".py",
   "mimetype": "text/x-python",
   "name": "python",
   "nbconvert_exporter": "python",
   "pygments_lexer": "ipython3",
   "version": "3.12.8"
  }
 },
 "nbformat": 4,
 "nbformat_minor": 4
}
