{
 "cells": [
  {
   "cell_type": "markdown",
   "metadata": {},
   "source": [
    "# MTH 652: Advanced Numerical Analysis"
   ]
  },
  {
   "cell_type": "markdown",
   "metadata": {},
   "source": [
    "## Homework Assignment 3"
   ]
  },
  {
   "cell_type": "markdown",
   "metadata": {},
   "source": [
    "### <span style=\"color:red;\">Write your name here</span>"
   ]
  },
  {
   "cell_type": "markdown",
   "metadata": {
    "id": "d5sMJY4v8Tol"
   },
   "source": [
    "### Guidelines\n",
    "\n",
    "* Each student must complete their own assignment individually.\n",
    "  * Discussing with other students is allowed (encouraged!), but you must write your own answers and code.\n",
    "  * The use of ChatGTP, Copilot, or other AI assistants is **not allowed**\n",
    "* The code must run in Colab or JupyterHub without errors.\n",
    "  * Code that does not run will not receive any credit.\n",
    "  * I suggest double-checking that your code runs properly in a new session. Sometimes code can be broken but appear to work because of old state in the notebook."
   ]
  },
  {
   "cell_type": "markdown",
   "metadata": {},
   "source": [
    "### Google Colab Instructions\n",
    "\n",
    "* After opening this assignment in Google Colab, click on **\"Copy to Drive\"**\n",
    "* Rename the notebook to `student_name_mth_652_assignment_3.ipynb`\n",
    "    * ⚠️ In the above, replace `student_name` with your name!\n",
    "* Enter your name above (in the cell below \"Homework Assignment\")!\n",
    "* When you are ready to submit your assignment, select \"File -> Download -> Download .ipynb\" from the Colab menu\n",
    "* Upload the downloaded `.ipynb` file to Canvas"
   ]
  },
  {
   "cell_type": "markdown",
   "metadata": {},
   "source": [
    "### Assignment Goals\n",
    "\n",
    "* The purpose of this assignment is to:\n",
    "    1. Understand and implement the Householder Arnoldi algorithm\n",
    "    2. Use Householder Arnoldi in GMRES, and compare its convergence to CG"
   ]
  },
  {
   "cell_type": "markdown",
   "metadata": {
    "vscode": {
     "languageId": "plaintext"
    }
   },
   "source": [
    "## Written Questions"
   ]
  },
  {
   "cell_type": "markdown",
   "metadata": {},
   "source": [
    "We will be concerned with the implementation of the **Householder Arnoldi** algorithm.\n",
    "Consult lecture notes 7 and 8 for details of Arnoldi and Householder.\n",
    "\n",
    "This is the version of the Arnoldi algorithm (for computing an orthonormal basis for the Krylov subspace) that uses Householder reflections rather than (modified) Gram-Schmidt.\n",
    "\n",
    "We will fix some notation for what follows.\n",
    "\n",
    "* Let $A \\in \\mathbb{R}^{N \\times n}$ be an invertible matrix.\n",
    "* Let the vector $\\boldsymbol{u}$ be fixed.\n",
    "* We will consider the Krylov subspaces $\\mathcal{K}_m(A, \\boldsymbol{u})$ for $m \\leq N$.\n",
    "    * The matrix whose $i$-th column is the Krylov vector $A^{i-1} \\boldsymbol{u}$ is denoted $K_m$.\n",
    "* We will assume that these spaces are all dimension $m$ (i.e. breakdown doesn't happen).\n",
    "\n",
    "Let $P_i = I - 2 \\boldsymbol{w}_i \\boldsymbol{w}_i^T$ denote a Householder reflection, where $\\boldsymbol{w}_i$ is a unit vector.\n",
    "\n",
    "The vectors $\\boldsymbol{q}_i$ will denote the orthonormal basis obtained through the Arnoldi process (so that $\\operatorname{span}\\{ \\boldsymbol{q}_i \\}_{i=1}^m = \\mathcal{K}_m(A,\\boldsymbol{u})$).\n",
    "\n",
    "The vectors $\\boldsymbol{e}_i$ are the standard basis vectors (one in the $i$-th place, zero elsewhere)."
   ]
  },
  {
   "cell_type": "markdown",
   "metadata": {},
   "source": [
    "#### 1. (1 point)\n",
    "\n",
    "Show that $P_i = P_i^{-1} = P_i^T$."
   ]
  },
  {
   "cell_type": "markdown",
   "metadata": {},
   "source": [
    "#### 2. (2 points)\n",
    "\n",
    "Recall that Householder QR for matrix $B \\in \\mathbb{R}^{N \\times m}$ proceeds by constructing Householder matrices $P_1, \\ldots, P_k$ such that\n",
    "$$\n",
    "    B_k = P_k P_{k-1} \\cdots P_2 P_1 B,\n",
    "$$\n",
    "where $B_k$ has zeros below the diagonal in the first $k$ columns.\n",
    "\n",
    "The end result of this process is the factorization\n",
    "$$\n",
    "    B = QR,\n",
    "$$\n",
    "where $Q$ is orthogonal and $R$ is upper triangular.\n",
    "The columns $\\boldsymbol{q}_i$ of $Q$ are an orthonormal basis for the column space of $B$.\n",
    "\n",
    "Show that the first $j$ columns of $P_1 P_2 \\cdots P_m$ are the same as those of $P_1 P_2 \\cdots P_j$.\n",
    "\n",
    "From this, conclude that $\\boldsymbol{q}_j = P_1 P_2 \\cdots P_j \\boldsymbol{e}_j$."
   ]
  },
  {
   "cell_type": "markdown",
   "metadata": {},
   "source": [
    "#### 3. (2 points)\n",
    "\n",
    "We apply Householder QR to the Arnoldi iteration.\n",
    "At the $k$-th iteration, after finding orthonormal basis vectors $\\boldsymbol{q}_1, \\ldots, \\boldsymbol{q}_{k-1}$ that span $\\mathcal{K}_{k-1}(A, \\boldsymbol{u})$, the vector $A \\boldsymbol{q_{k-1}}$ is orthonormalized (using a Householder reflection $P_k$) against the previous vectors to obtain $\\boldsymbol{q}_k$.\n",
    "\n",
    "Recall the key Arnoldi identity\n",
    "$$\n",
    "    A Q_{k-1} = Q_k H_{k-1},\n",
    "$$\n",
    "where $Q_j$ denotes the $N \\times j$ matrix whose $i$-th column is $\\boldsymbol{q}_i$, and $H_{k-1}$ is a $k \\times (k-1)$ upper Hessenberg matrix.\n",
    "\n",
    "Show that $\\boldsymbol h_{k-1}$ (the last column of $H_{k-1}$) is given by the first $k$ entries of the vector\n",
    "$$\n",
    "    P_k P_{k-1} \\cdots P_2 P_1 A \\boldsymbol{q}_{k-1}.\n",
    "$$"
   ]
  },
  {
   "cell_type": "markdown",
   "metadata": {},
   "source": [
    "#### 4. (3 points)\n",
    "\n",
    "Verify that the following algorithm performs the Householder Arnoldi iteration as described above.\n",
    "\n",
    "What is the computational complexity in terms of $N$, $m$, and $\\mathrm{nnz}(A)$? (Note that the $N \\times N$ matrices $P_j$ do **not** need to be formed explicitly).\n",
    "\n",
    "What are the memory requirements?\n",
    "\n",
    "**Algorithm (Householder Arnoldi)**\n",
    "\n",
    "Given $A$, $\\boldsymbol{u}$, $m$ as inputs.\n",
    "\n",
    "Set $\\boldsymbol{z} \\gets \\boldsymbol{u}$\n",
    "\n",
    "**For** $k = 1, 2, \\ldots, m$\n",
    "\n",
    "* $\\boldsymbol{z} \\gets P_{k-1} \\cdots P_1 \\boldsymbol{z}$ (skip this on the first iteration, the product is 'empty')\n",
    "* $\\boldsymbol{z} \\gets (z_i)_{i=k}^N$ (last $N - k + 1$ entries of $\\boldsymbol{z}$)\n",
    "* $\\boldsymbol{w'} \\gets \\dfrac{\\boldsymbol{z'} + \\operatorname{sign}(z'_1)\\|\\boldsymbol{z'}\\|\\boldsymbol{e}_1}{\\big\\|\\boldsymbol{z'} + \\operatorname{sign}(z'_1)\\|\\boldsymbol{z'}\\|\\boldsymbol{e}_1\\big\\|}$\n",
    "* $\\boldsymbol{w} \\gets (0, \\boldsymbol{w}') \\in \\mathbb{R}^N$ (pad with zeros in the first $(k-1)$ entries)\n",
    "* $P_k \\gets I - 2 \\boldsymbol{w} \\boldsymbol{w'}$\n",
    "* $\\boldsymbol{h}_{k-1} \\gets P_k \\boldsymbol{z}$\n",
    "* $\\boldsymbol{q}_k \\gets P_1 P_2 \\cdots P_k \\boldsymbol{e_j}$\n",
    "* $\\boldsymbol{z} \\gets A \\boldsymbol{q}_k$\n",
    "\n",
    "**End For**"
   ]
  },
  {
   "cell_type": "markdown",
   "metadata": {},
   "source": [
    "#### 5. (4 points)\n",
    "\n",
    "Given a vector $(a, b)$, find $\\theta$ such that\n",
    "$$\n",
    "\\begin{pmatrix}\n",
    "    \\cos(\\theta) & -\\sin(\\theta) \\\\\n",
    "    \\sin(\\theta) & \\cos(\\theta)\n",
    "\\end{pmatrix}\n",
    "\\begin{pmatrix} a \\\\ b \\end{pmatrix}\n",
    "=\n",
    "\\begin{pmatrix}\n",
    "\\sqrt{a^2 + b^2} \\\\ 0\n",
    "\\end{pmatrix}.\n",
    "$$\n",
    "\n",
    "The matrix\n",
    "$$\n",
    "G(\\theta)\n",
    "=\n",
    "\\begin{pmatrix}\n",
    "    \\cos(\\theta) & -\\sin(\\theta) \\\\\n",
    "    \\sin(\\theta) & \\cos(\\theta)\n",
    "\\end{pmatrix}\n",
    "$$\n",
    "is called a **Givens rotation**.\n",
    "\n",
    "Let $H$ be an upper Hessenberg matrix ($H_{ij} = 0$ for $i > j + 1$).\n",
    "\n",
    "Explain how a sequence of such Givens rotations can be used to compute the QR factorization of $H$.\n",
    "What is the connection to the least-squares problem in GMRES?\n"
   ]
  },
  {
   "cell_type": "markdown",
   "metadata": {},
   "source": [
    "#### 6. (3 points)\n",
    "\n",
    "Recall from the lecture notes that $A$ is symmetric, then the upper Hessenberg matrix $H_k$ is **tridiagonal**.\n",
    "This implies that\n",
    "$$\n",
    "A \\bm q_m = H_{m-1,m} \\bm q_{m-1} + H_{mm} \\bm q_m + H_{m+1,m} \\bm q_{m+1}.\n",
    "$$\n",
    "Constructing an orthonormal basis using this recurrence is known as the **Lanczos** algorithm (rather than Arnoldi).\n",
    "\n",
    "Suppose a modified version of GMRES is used to solve $A \\boldsymbol{x} = \\boldsymbol{b}$, where $A$ is known to be symmetric.\n",
    "Assume further that at each iteration, the least-squares problem can be solved in $\\mathcal{O}(1)$ time (by updating the QR factorization using Givens rotations; the same can be done in GMRES, as in the previous question).\n",
    "\n",
    "Using the Lanczos algorithm rather than Arnoldi, what is the computational complexity per iteration of this modified method?\n",
    "What are the memory requirements?\n",
    "Compare to standard GMRES.\n",
    "What does this imply for restarting?"
   ]
  },
  {
   "cell_type": "markdown",
   "metadata": {},
   "source": [
    "## Coding Questions"
   ]
  },
  {
   "cell_type": "markdown",
   "metadata": {},
   "source": [
    "#### 7. (2 points)\n",
    "\n",
    "Write a function `householder(w, x)` that returns $P \\boldsymbol{x}$, where $P = I - 2 \\boldsymbol{w} \\boldsymbol{w}^T$.\n",
    "\n",
    "Write a function `householder_ej(w, j)` that returns $P \\boldsymbol{e}_j$ (this can be computed directly, without explicitly forming the basis vector $\\boldsymbol{e}_j$)."
   ]
  },
  {
   "cell_type": "code",
   "execution_count": null,
   "metadata": {},
   "outputs": [],
   "source": [
    "def householder(w, x):\n",
    "    pass\n",
    "\n",
    "def householder_ej(w, j):\n",
    "    pass"
   ]
  },
  {
   "cell_type": "markdown",
   "metadata": {},
   "source": [
    "#### 8. (5 points)\n",
    "\n",
    "Write a function `householder_iter(A, y, ws)` that performs one iteration of the Householder Arnoldi method (see question 4), given the matrix $A$ and vector $\\boldsymbol{y} = A \\boldsymbol{q}_{k-1}$ (to be orthogonalized to obtain the new vector $\\boldsymbol{q}_{k}$).\n",
    "The argument `ws` is a list of vectors $\\boldsymbol{w}_1, \\ldots, \\boldsymbol{w}_{k-1}$ that define the Householder reflections $P_1, \\ldots, P_{k-1}$ computed so far.\n",
    "\n",
    "The function should compute the new basis vector $\\boldsymbol{q}_k$, the Householder reflection vector $\\boldsymbol{w}_k$, and the Hessenberg coefficients $\\boldsymbol{h}_{k-1}$.\n",
    "\n",
    "Append the new reflection vector $\\boldsymbol{w}_k$ to the list `ws` (so the parameter `ws` is used as both an input and an output).\n",
    "Return the pair $(\\boldsymbol{q}_k, \\boldsymbol{h}_{k-1})$.\n",
    "\n",
    "**Note:** if the vector $\\boldsymbol{q}_{N+1}$ is requested (i.e. $N$ previous vectors $\\boldsymbol{q}_i$ have already been computed), then $A \\boldsymbol{q}_N$ can be written as a combination of the previous basis vectors.\n",
    "In this case, return the zero vector in place of $\\boldsymbol{q}_{N+1}$, and $P_N P_{N-1} \\cdots P_1 \\boldsymbol{y}$ in place of $\\boldsymbol{h}_N$.\n",
    "\n",
    "To check your work, use `householder_iter` to build the matrices $Q_m$ and $H_m$, and verify that the Arnoldi identity\n",
    "$$\n",
    "    A Q_m = Q_{m+1} H_m\n",
    "$$\n",
    "holds.\n",
    "You can also check that the returned vectors $\\boldsymbol{q}_i$ must all be orthogonal."
   ]
  },
  {
   "cell_type": "code",
   "execution_count": null,
   "metadata": {},
   "outputs": [],
   "source": [
    "def householder_iter(A, z, ws):\n",
    "    pass"
   ]
  },
  {
   "cell_type": "markdown",
   "metadata": {},
   "source": [
    "#### 9. (3 points)\n",
    "\n",
    "The provided function `gmres` uses `householder_iter` to implement the GMRES algorithm (a naive version redoing the QR factorization for the least squares problem every step, rather than using Givens rotations).\n",
    "\n",
    "The parameter `m` is the number of iterations to take before restarting.\n",
    "\n",
    "Run the test case below and explain why the convergence behavior in the two cases follows from the theory."
   ]
  },
  {
   "cell_type": "code",
   "execution_count": null,
   "metadata": {},
   "outputs": [],
   "source": [
    "def gmres(A, b, u, m, maxit=200):\n",
    "    N = A.shape[0]\n",
    "    tol = 1e-6\n",
    "    print(\"It.     Residual\")\n",
    "\n",
    "    M = int(np.ceil(maxit / m))\n",
    "\n",
    "    for k in range(M):\n",
    "        r = b - A @ u\n",
    "        alpha = -np.sign(r[0]) * np.linalg.norm(r)\n",
    "\n",
    "        Q = np.zeros((N, m+1))\n",
    "        H = np.zeros((m+1,m))\n",
    "        ws = []\n",
    "        Q[:,0] = householder_iter(A, r, ws)[0]\n",
    "\n",
    "        for i in range(1, m+1):\n",
    "            z = A @ Q[:,i-1]\n",
    "            q, h = householder_iter(A, z, ws)\n",
    "            Q[:,i] = q\n",
    "            H[:len(h),i-1] = h\n",
    "\n",
    "            # Solve least-squares problem\n",
    "            rhs = np.zeros(i+1)\n",
    "            rhs[0] = alpha\n",
    "            y, res, _, _ = np.linalg.lstsq(H[:i+1,:i], rhs)\n",
    "\n",
    "            # Report residual, return if converged\n",
    "            resnorm = np.sqrt(res[0])\n",
    "            print(k*m + i - 1, \"    \", resnorm)\n",
    "            if resnorm < tol or i + k*m >= maxit:\n",
    "                return u + Q[:,:i] @ y\n",
    "\n",
    "        # Update approximate solution, restart\n",
    "        u += Q[:,:m] @ y\n",
    "\n",
    "    return u\n"
   ]
  },
  {
   "cell_type": "code",
   "execution_count": null,
   "metadata": {},
   "outputs": [],
   "source": [
    "A = np.random.rand(10, 10) + 0.5*np.eye(10)\n",
    "b = np.random.rand(10)\n",
    "u = np.zeros(10)\n",
    "\n",
    "gmres(A, b, u, 10);\n",
    "gmres(A, b, u, 9);"
   ]
  },
  {
   "cell_type": "markdown",
   "metadata": {},
   "source": [
    "#### 10. (3 points)\n",
    "\n",
    "Use the code below to construct the finite element stiffness matrix on an $nx \\times nx$ grid.\n",
    "Solve the system for $nx = 20$ (with a random right-hand side) using GMRES with initial guess of zero.\n",
    "Try two cases, with restart parameter 10, and restart parameter 50.\n",
    "\n",
    "Code is included below to solve the system using the conjugate gradient method.\n",
    "\n",
    "Compare the results and efficiency of the two methods."
   ]
  },
  {
   "cell_type": "code",
   "execution_count": null,
   "metadata": {},
   "outputs": [],
   "source": [
    "import numpy as np\n",
    "import matplotlib.pyplot as plt\n",
    "\n",
    "def area(K):\n",
    "    \"\"\"\n",
    "    Returns the area of the triangle defined by K.\n",
    "    \"\"\"\n",
    "    M = np.array([[K[0,0], K[0,1], 1],\n",
    "                  [K[1,0], K[1,1], 1],\n",
    "                  [K[2,0], K[2,1], 1]])\n",
    "    return 0.5 * np.linalg.det(M)\n",
    "\n",
    "def make_stiffness(V, T, B):\n",
    "    \"\"\"\n",
    "    Assembles the stiffness matrix on the mesh defined by (T, V). Eliminates the\n",
    "    essential boundary conditions defined by B.\n",
    "    \"\"\"\n",
    "    N = V.shape[0]\n",
    "    A = np.zeros((N, N))\n",
    "\n",
    "    for it in range(T.shape[0]):\n",
    "        K = V[T[it,:],:]\n",
    "        G1 = np.array([[1, 1, 1],\n",
    "                       [K[0,0], K[1,0], K[2,0]],\n",
    "                       [K[0,1], K[1,1], K[2,1]]])\n",
    "        G2 = np.array([[0,0],[1,0],[0,1]])\n",
    "        G = np.linalg.solve(G1, G2)\n",
    "        A_K = area(K) * G @ G.T\n",
    "\n",
    "        A[np.ix_(T[it,:], T[it,:])] += A_K\n",
    "\n",
    "    A[B,:] = 0.0\n",
    "    A[:,B] = 0.0\n",
    "    for i in B:\n",
    "        A[i,i] = 1.0\n",
    "\n",
    "    return A\n",
    "\n",
    "def square_mesh(nx):\n",
    "    \"\"\"\n",
    "    Generates a triangular Cartesian mesh of the unit square with nx vertices in\n",
    "    each dimension.\n",
    "\n",
    "    Returns (V, T, B), where V is are the vertex coordinates, T are the triangle\n",
    "    indices, and B is a list of boundary vertex indices.\n",
    "    \"\"\"\n",
    "    x = np.linspace(0, 1, nx)\n",
    "    X, Y = np.meshgrid(x, x)\n",
    "    V = np.stack((X.ravel(), Y.ravel()), axis=1)\n",
    "\n",
    "    nt = 2*(nx-1)**2\n",
    "    T = np.zeros((nt, 3), int)\n",
    "\n",
    "    for iy in range(nx - 1):\n",
    "        for ix in range(nx - 1):\n",
    "            v1 = ix + iy*nx\n",
    "            v2 = ix + 1 + iy*nx\n",
    "            v3 = ix + (iy + 1)*nx\n",
    "            v4 = ix + 1 + (iy + 1)*nx\n",
    "            T[2*ix + iy*2*(nx-1), :] = [v1, v2, v4]\n",
    "            T[2*ix + 1 + iy*2*(nx-1), :] = [v1, v4, v3]\n",
    "\n",
    "    B = []\n",
    "    for i in range(nx):\n",
    "        B.append(i)\n",
    "        B.append(i + nx*(nx - 1))\n",
    "    for i in range(1, nx - 1):\n",
    "        B.append(nx*i)\n",
    "        B.append(nx - 1 + nx*i)\n",
    "\n",
    "    return V, T, B"
   ]
  },
  {
   "cell_type": "code",
   "execution_count": null,
   "metadata": {},
   "outputs": [],
   "source": [
    "from scipy.sparse.linalg import cg\n",
    "\n",
    "# The matrix A and right-hand side b should be defined above (using the finite\n",
    "# element code).\n",
    "\n",
    "it = 0\n",
    "\n",
    "def print_res(x):\n",
    "    global it\n",
    "    it += 1\n",
    "    print(it, \"    \", np.linalg.norm(b - A@x))\n",
    "\n",
    "print(\"It.     Residual\")\n",
    "cg(A, b, rtol=1e-7, callback=print_res);"
   ]
  }
 ],
 "metadata": {
  "colab": {
   "provenance": []
  },
  "kernelspec": {
   "display_name": ".venv",
   "language": "python",
   "name": "python3"
  },
  "language_info": {
   "codemirror_mode": {
    "name": "ipython",
    "version": 3
   },
   "file_extension": ".py",
   "mimetype": "text/x-python",
   "name": "python",
   "nbconvert_exporter": "python",
   "pygments_lexer": "ipython3",
   "version": "3.12.8"
  }
 },
 "nbformat": 4,
 "nbformat_minor": 0
}
