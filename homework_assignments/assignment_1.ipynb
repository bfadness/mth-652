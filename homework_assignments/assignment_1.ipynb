{
 "cells": [
  {
   "cell_type": "markdown",
   "metadata": {},
   "source": [
    "# MTH 652: Advanced Numerical Analysis"
   ]
  },
  {
   "cell_type": "markdown",
   "metadata": {},
   "source": [
    "## Homework Assignment 1"
   ]
  },
  {
   "cell_type": "markdown",
   "metadata": {},
   "source": [
    "### <span style=\"color:red;\">Write your name here</span>"
   ]
  },
  {
   "cell_type": "markdown",
   "metadata": {
    "id": "d5sMJY4v8Tol"
   },
   "source": [
    "### Guidelines\n",
    "\n",
    "* Each student must complete their own assignment individually.\n",
    "  * Discussing with other students is allowed (encouraged!), but you must write your own answers and code.\n",
    "  * The use of ChatGTP, Copilot, or other AI assistants is **not allowed**\n",
    "* The code must run in Colab or JupyterHub without errors.\n",
    "  * Code that does not run will not receive any credit.\n",
    "  * I suggest double-checking that your code runs properly in a new session. Sometimes code can be broken but appear to work because of old state in the notebook."
   ]
  },
  {
   "cell_type": "markdown",
   "metadata": {},
   "source": [
    "### Google Colab Instructions\n",
    "\n",
    "* After opening this assignment in Google Colab, click on **\"Copy to Drive\"**\n",
    "* Rename the notebook to `student_name_mth_652_assignment_1.ipynb`\n",
    "    * ⚠️ In the above, replace `student_name` with your name!\n",
    "* Enter your name above (in the cell below \"Homework Assignment\")!\n",
    "* When you are ready to submit your assignment, select \"File -> Download -> Download .ipynb\" from the Colab menu\n",
    "* Upload the downloaded `.ipynb` file to Canvas"
   ]
  },
  {
   "cell_type": "markdown",
   "metadata": {},
   "source": [
    "### Assignment Goals\n",
    "\n",
    "* The purpose of this assignment is to:\n",
    "    1. Implement forward Euler, backward Euler, and Crank-Nicolson time integration methods for the heat equation\n",
    "    2. Study the stability and convergence behaviors of these methods"
   ]
  },
  {
   "cell_type": "markdown",
   "metadata": {},
   "source": [
    "The following code (from the MTH 651 homework assignments) can be used to assemble the finite element mass and stiffness matrices."
   ]
  },
  {
   "cell_type": "code",
   "execution_count": 1,
   "metadata": {},
   "outputs": [],
   "source": [
    "import numpy as np\n",
    "import matplotlib.pyplot as plt\n",
    "\n",
    "def area(K):\n",
    "    \"\"\"\n",
    "    Returns the area of the triangle defined by K.\n",
    "    \"\"\"\n",
    "    M = np.array([[K[0,0], K[0,1], 1],\n",
    "                  [K[1,0], K[1,1], 1],\n",
    "                  [K[2,0], K[2,1], 1]])\n",
    "    return 0.5 * np.linalg.det(M)\n",
    "\n",
    "def make_stiffness(T, V, B):\n",
    "    \"\"\"\n",
    "    Assembles the stiffness matrix on the mesh defined by (T, V). Eliminates the\n",
    "    essential boundary conditions defined by B.\n",
    "    \"\"\"\n",
    "    N = V.shape[0]\n",
    "    A = np.zeros((N, N))\n",
    "\n",
    "    for it in range(T.shape[0]):\n",
    "        K = V[T[it,:],:]\n",
    "        G1 = np.array([[1, 1, 1],\n",
    "                       [K[0,0], K[1,0], K[2,0]],\n",
    "                       [K[0,1], K[1,1], K[2,1]]])\n",
    "        G2 = np.array([[0,0],[1,0],[0,1]])\n",
    "        G = np.linalg.solve(G1, G2)\n",
    "        A_K = area(K) * G @ G.T\n",
    "\n",
    "        A[np.ix_(T[it,:], T[it,:])] += A_K\n",
    "\n",
    "    A[B,:] = 0.0\n",
    "    A[:,B] = 0.0\n",
    "    for i in B:\n",
    "        A[i,i] = 1.0\n",
    "\n",
    "    return A\n",
    "\n",
    "def make_mass(T, V, B):\n",
    "    \"\"\"\n",
    "    Assembles the mass matrix on the mesh defined by (T, V). Eliminates the\n",
    "    essential boundary conditions defined by B.\n",
    "    \"\"\"\n",
    "    N = V.shape[0]\n",
    "    M = np.zeros((N, N))\n",
    "    for it in range(T.shape[0]):\n",
    "        K = V[T[it,:],:]\n",
    "        M[np.ix_(T[it,:], T[it,:])] += area(K)/12*np.array([[2,1,1],[1,2,1],[1,1,2]])\n",
    "\n",
    "    M[B,:] = 0.0\n",
    "    M[:,B] = 0.0\n",
    "    for i in B:\n",
    "        M[i,i] = 1.0\n",
    "\n",
    "    return M\n",
    "\n",
    "def square_mesh(nx):\n",
    "    \"\"\"\n",
    "    Generates a triangular Cartesian mesh of the unit square with nx vertices in\n",
    "    each dimension.\n",
    "\n",
    "    Returns (V, T, B), where V is are the vertex coordinates, T are the triangle\n",
    "    indices, and B is a list of boundary vertex indices.\n",
    "    \"\"\"\n",
    "    x = np.linspace(0, 1, nx)\n",
    "    X, Y = np.meshgrid(x, x)\n",
    "    V = np.stack((X.ravel(), Y.ravel()), axis=1)\n",
    "\n",
    "    nt = 2*(nx-1)**2\n",
    "    T = np.zeros((nt, 3), int)\n",
    "\n",
    "    for iy in range(nx - 1):\n",
    "        for ix in range(nx - 1):\n",
    "            v1 = ix + iy*nx\n",
    "            v2 = ix + 1 + iy*nx\n",
    "            v3 = ix + (iy + 1)*nx\n",
    "            v4 = ix + 1 + (iy + 1)*nx\n",
    "            T[2*ix + iy*2*(nx-1), :] = [v1, v2, v4]\n",
    "            T[2*ix + 1 + iy*2*(nx-1), :] = [v1, v4, v3]\n",
    "\n",
    "    B = []\n",
    "    for i in range(nx):\n",
    "        B.append(i)\n",
    "        B.append(i + nx*(nx - 1))\n",
    "    for i in range(1, nx - 1):\n",
    "        B.append(nx*i)\n",
    "        B.append(nx - 1 + nx*i)\n",
    "\n",
    "    return V, T, B\n",
    "\n",
    "\n",
    "\n",
    "def l2_error(u, u_exact, T, V):\n",
    "    \"\"\"\n",
    "    Return the L^2 norm of the difference (u - u_exact).\n",
    "\n",
    "    (T, V) define the triangulation of the domain. u is a vector containing\n",
    "    vertex values at each of the vertices of the mesh, and u_exact is a function\n",
    "    of two variables that returns the exact solution.\n",
    "    \"\"\"\n",
    "    integral = 0.0\n",
    "    for it in range(T.shape[0]):\n",
    "        val = np.mean(u[T[it,:]])\n",
    "        xy = np.mean(V[T[it,:],:], axis=0)\n",
    "        integral += area(V[T[it,:],:]) * (val - u_exact(xy[0], xy[1]))**2\n",
    "    return np.sqrt(integral)"
   ]
  },
  {
   "cell_type": "markdown",
   "metadata": {},
   "source": [
    "Consider the heat equation\n",
    "$$\n",
    "    \\begin{aligned}\n",
    "        \\frac{\\partial u}{\\partial t} - \\Delta u &= f \\quad\\text{in $\\Omega$} \\\\\n",
    "        u(x,y,t) &= 0 \\quad\\text{on $\\partial\\Omega$} \\\\\n",
    "        u(x,y,0) &= u_0(x,y)\n",
    "    \\end{aligned}\n",
    "$$\n",
    "Define the right-hand side $f = 0$ and initial condition\n",
    "$$\n",
    "    u_0(x,y) = \\sin(\\pi x) \\sin(\\pi y).\n",
    "$$"
   ]
  },
  {
   "cell_type": "markdown",
   "metadata": {},
   "source": [
    "#### 1. Exact Solution (1 point)\n",
    "\n",
    "Write down the exact solution $u(x,y,t)$ to this equation.\n",
    "Write a function `u_exact` that returns the exact solution."
   ]
  },
  {
   "cell_type": "code",
   "execution_count": 2,
   "metadata": {},
   "outputs": [],
   "source": [
    "def u_exact(x, y, t):\n",
    "    return"
   ]
  },
  {
   "cell_type": "markdown",
   "metadata": {},
   "source": [
    "#### 2. Forward Euler (3 points)\n",
    "\n",
    "Write a function `forward_euler` that solves the heat equation on the square mesh of the domain $\\Omega = [0,1]^2$ and time interval $[0,0.1]$ given parameters `nx`, `nt`.\n",
    "Time integration should be performed using the forward Euler method;\n",
    "the number of time steps should be `nt` (time step $\\Delta t = 0.1 / n_t$).\n",
    "Return the error compared with the exact solution.\n",
    "\n",
    "If the norm of the solution at any time step is more than 10% larger than the norm of the initial conditions, return `np.nan` immediately. (This can happen if the time step does not satisfy the CFL condition, in which case the method is unstable)."
   ]
  },
  {
   "cell_type": "code",
   "execution_count": 3,
   "metadata": {},
   "outputs": [],
   "source": [
    "def forward_euler(nx, nt):\n",
    "    pass"
   ]
  },
  {
   "cell_type": "markdown",
   "metadata": {},
   "source": [
    "#### 3. Backward Euler (3 points)\n",
    "\n",
    "Write a function `backward_euler`, analogous to `forward_euler` from the previous question, but implementing the backward Euler method."
   ]
  },
  {
   "cell_type": "code",
   "execution_count": 4,
   "metadata": {},
   "outputs": [],
   "source": [
    "def backward_euler(nx, nt):\n",
    "    pass"
   ]
  },
  {
   "cell_type": "markdown",
   "metadata": {},
   "source": [
    "#### 4. Theta Method (3 points)\n",
    "\n",
    "Write a function `theta_method` that implements the $\\theta$-method, taking $\\theta$ as a parameter."
   ]
  },
  {
   "cell_type": "code",
   "execution_count": 5,
   "metadata": {},
   "outputs": [],
   "source": [
    "def theta_method(theta, nx, nt):\n",
    "    pass"
   ]
  },
  {
   "cell_type": "markdown",
   "metadata": {},
   "source": [
    "#### 5. Convergence study (5 points)\n",
    "\n",
    "Start with a Cartesian grid of size $3 \\times 3$ (i.e. `nx = 3` in `square_mesh`) and `nt = 4`.\n",
    "Run forward Euler, backward Euler and Crank-Nicolson and record the error.\n",
    "Multiply `nx` and `nt` each by 2 and repeat this process; solve the problem on a total of five meshes (each refined by a factor of two from the previous mesh).\n",
    "\n",
    "Store the errors for each of the methods in lists `e_fe`, `e_be`, and `e_cn`.\n",
    "Use the provided code to output a convergence table.\n",
    "Interpret the results in light of the theoretical estimates."
   ]
  },
  {
   "cell_type": "code",
   "execution_count": null,
   "metadata": {},
   "outputs": [],
   "source": [
    "print(\"FE Error      Rate      BE Error      Rate      CN Error      Rate\")\n",
    "print(\"------------------------------------------------------------------\")\n",
    "for i in range(len(e_fe)):\n",
    "    for e in [e_fe, e_be, e_cn]:\n",
    "        if i > 0 and not np.isnan(e[i]):\n",
    "            rate_fmt = \"{:.3f}\"\n",
    "            rate_l2 = np.log2(e[i-1] / e[i])\n",
    "        else:\n",
    "            rate_fmt = \"{}\"\n",
    "            rate_l2 = \"---  \"\n",
    "        print(\"{:9.3e}\".format(e[i]), \"    \", end=\"\")\n",
    "        print(rate_fmt.format(rate_l2), \"    \", end=\"\")\n",
    "    print()"
   ]
  }
 ],
 "metadata": {
  "colab": {
   "provenance": []
  },
  "kernelspec": {
   "display_name": ".venv",
   "language": "python",
   "name": "python3"
  },
  "language_info": {
   "codemirror_mode": {
    "name": "ipython",
    "version": 3
   },
   "file_extension": ".py",
   "mimetype": "text/x-python",
   "name": "python",
   "nbconvert_exporter": "python",
   "pygments_lexer": "ipython3",
   "version": "3.12.8"
  }
 },
 "nbformat": 4,
 "nbformat_minor": 0
}
