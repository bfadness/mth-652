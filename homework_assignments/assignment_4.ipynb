{
 "cells": [
  {
   "cell_type": "markdown",
   "metadata": {},
   "source": [
    "# MTH 652: Advanced Numerical Analysis"
   ]
  },
  {
   "cell_type": "markdown",
   "metadata": {},
   "source": [
    "## Homework Assignment 4"
   ]
  },
  {
   "cell_type": "markdown",
   "metadata": {},
   "source": [
    "### <span style=\"color:red;\">Write your name here</span>"
   ]
  },
  {
   "cell_type": "markdown",
   "metadata": {
    "id": "d5sMJY4v8Tol"
   },
   "source": [
    "### Guidelines\n",
    "\n",
    "* Each student must complete their own assignment individually.\n",
    "  * Discussing with other students is allowed (encouraged!), but you must write your own answers and code.\n",
    "  * The use of ChatGTP, Copilot, or other AI assistants is **not allowed**\n",
    "* The code must run in Colab or JupyterHub without errors.\n",
    "  * Code that does not run will not receive any credit.\n",
    "  * I suggest double-checking that your code runs properly in a new session. Sometimes code can be broken but appear to work because of old state in the notebook."
   ]
  },
  {
   "cell_type": "markdown",
   "metadata": {},
   "source": [
    "### Google Colab Instructions\n",
    "\n",
    "* After opening this assignment in Google Colab, click on **\"Copy to Drive\"**\n",
    "* Rename the notebook to `student_name_mth_652_assignment_4.ipynb`\n",
    "    * ⚠️ In the above, replace `student_name` with your name!\n",
    "* Enter your name above (in the cell below \"Homework Assignment\")!\n",
    "* When you are ready to submit your assignment, select \"File -> Download -> Download .ipynb\" from the Colab menu\n",
    "* Upload the downloaded `.ipynb` file to Canvas"
   ]
  },
  {
   "cell_type": "markdown",
   "metadata": {},
   "source": [
    "### Assignment Goals\n",
    "\n",
    "* The purpose of this assignment is to:\n",
    "    1. Understand the theory of subspace correction methods\n",
    "    2. Implement and study a simple two-level additive subspace correction method"
   ]
  },
  {
   "cell_type": "markdown",
   "metadata": {
    "vscode": {
     "languageId": "plaintext"
    }
   },
   "source": [
    "## Written Questions"
   ]
  },
  {
   "cell_type": "markdown",
   "metadata": {},
   "source": [
    "#### 1. (5 points)\n",
    "\n",
    "Prove the following proposition from Lecture 13.\n",
    "\n",
    "Let $A$ and $M$ be SPD matrices.\n",
    "Then, the following eigenvalue problems have the same eigenvalues\n",
    "\\begin{align*}\n",
    "    A \\bm x &= \\lambda M \\bm x, \\\\\n",
    "    M^{-1} A \\bm x &= \\lambda \\bm x, \\\\\n",
    "    M^{-1/2} A M^{-1/2} \\bm x &= \\lambda \\bm x, \\\\\n",
    "    A^{1/2} M^{-1} A^{1/2} \\bm x &= \\lambda \\bm x.\n",
    "\\end{align*}\n",
    "In all cases, the eigenvalues are real and positive.\n",
    "The extremal eigenvalues satisfy\n",
    "\\begin{equation}\n",
    "    \\lambda_{\\min}(M^{-1}A) = \\inf_{\\bm x} \\frac{\\bm x^T A \\bm x}{\\bm x^T M \\bm x}, \\qquad\n",
    "    \\lambda_{\\max}(M^{-1}A) = \\sup_{\\bm x} \\frac{\\bm x^T A \\bm x}{\\bm x^T M \\bm x}.\n",
    "\\end{equation}"
   ]
  },
  {
   "cell_type": "markdown",
   "metadata": {},
   "source": [
    "## Coding Questions"
   ]
  },
  {
   "cell_type": "markdown",
   "metadata": {},
   "source": [
    "In this assignment, we will implement a two-level domain decomposition preconditioner on structured grids.\n",
    "\n",
    "The preconditioner will take the form\n",
    "$$\n",
    "    B = \\sum_{i=0}^J I_i A_i^{-1} I_i^T,\n",
    "$$\n",
    "where $I_i : V_i \\to V_h$ is the inclusion from the subspace $V_i$.\n",
    "\n",
    "In our case, $V_h$ will be the standard piecewise linear finite element space on a Cartesian mesh with $n_x$ vertices in each dimension ($n_x$ odd).\n",
    "\n",
    "The coarse space $V_0$ is defined on a Cartesian mesh with $(n_x + 1) / 2$ vertices in each dimension.\n",
    "Note that the mesh of $V_h$ can be obtained from the mesh of $V_0$ through one uniform refinement.\n",
    "\n",
    "For each basis function $\\phi_i \\in V_h$, the one-dimensional space $V_i$ is given by $V_i = \\operatorname{span}\\{ \\phi_i \\}$.\n",
    "\n",
    "We will use the same finite element code we have been working with in this course (included below)."
   ]
  },
  {
   "cell_type": "code",
   "execution_count": 1,
   "metadata": {},
   "outputs": [],
   "source": [
    "import numpy as np\n",
    "import matplotlib.pyplot as plt\n",
    "\n",
    "def area(K):\n",
    "    \"\"\"\n",
    "    Returns the area of the triangle defined by K.\n",
    "    \"\"\"\n",
    "    M = np.array([[K[0,0], K[0,1], 1],\n",
    "                  [K[1,0], K[1,1], 1],\n",
    "                  [K[2,0], K[2,1], 1]])\n",
    "    return 0.5 * np.linalg.det(M)\n",
    "\n",
    "def make_stiffness(V, T, B):\n",
    "    \"\"\"\n",
    "    Assembles the stiffness matrix on the mesh defined by (T, V). Eliminates the\n",
    "    essential boundary conditions defined by B.\n",
    "    \"\"\"\n",
    "    N = V.shape[0]\n",
    "    A = np.zeros((N, N))\n",
    "\n",
    "    for it in range(T.shape[0]):\n",
    "        K = V[T[it,:],:]\n",
    "        G1 = np.array([[1, 1, 1],\n",
    "                       [K[0,0], K[1,0], K[2,0]],\n",
    "                       [K[0,1], K[1,1], K[2,1]]])\n",
    "        G2 = np.array([[0,0],[1,0],[0,1]])\n",
    "        G = np.linalg.solve(G1, G2)\n",
    "        A_K = area(K) * G @ G.T\n",
    "\n",
    "        A[np.ix_(T[it,:], T[it,:])] += A_K\n",
    "\n",
    "    A[B,:] = 0.0\n",
    "    A[:,B] = 0.0\n",
    "    for i in B:\n",
    "        A[i,i] = 1.0\n",
    "\n",
    "    return A\n",
    "\n",
    "def square_mesh(nx):\n",
    "    \"\"\"\n",
    "    Generates a triangular Cartesian mesh of the unit square with nx vertices in\n",
    "    each dimension.\n",
    "\n",
    "    Returns (V, T, B), where V is are the vertex coordinates, T are the triangle\n",
    "    indices, and B is a list of boundary vertex indices.\n",
    "    \"\"\"\n",
    "    x = np.linspace(0, 1, nx)\n",
    "    X, Y = np.meshgrid(x, x)\n",
    "    V = np.stack((X.ravel(), Y.ravel()), axis=1)\n",
    "\n",
    "    nt = 2*(nx-1)**2\n",
    "    T = np.zeros((nt, 3), int)\n",
    "\n",
    "    for iy in range(nx - 1):\n",
    "        for ix in range(nx - 1):\n",
    "            v1 = ix + iy*nx\n",
    "            v2 = ix + 1 + iy*nx\n",
    "            v3 = ix + (iy + 1)*nx\n",
    "            v4 = ix + 1 + (iy + 1)*nx\n",
    "            T[2*ix + iy*2*(nx-1), :] = [v1, v2, v4]\n",
    "            T[2*ix + 1 + iy*2*(nx-1), :] = [v1, v4, v3]\n",
    "\n",
    "    B = []\n",
    "    for i in range(nx):\n",
    "        B.append(i)\n",
    "        B.append(i + nx*(nx - 1))\n",
    "    for i in range(1, nx - 1):\n",
    "        B.append(nx*i)\n",
    "        B.append(nx - 1 + nx*i)\n",
    "\n",
    "    return V, T, B\n",
    "\n",
    "def quadrature(f, K):\n",
    "    \"\"\"\n",
    "    Approximate the integral of f over K using one-point quadrature.\n",
    "    \"\"\"\n",
    "    xy = np.mean(K, axis=0)\n",
    "    return area(K) * f(xy[0], xy[1])\n",
    "\n",
    "def make_rhs(f, V, T, B):\n",
    "    \"\"\"\n",
    "    For the right-hand side vector F, where F_i is given by the integral of the\n",
    "    given function f times the ith basis function, defined on the mesh (V, T).\n",
    "\n",
    "    The entries in F corresponding to the boundary vertices (listed in B) are\n",
    "    set to zero.\n",
    "    \"\"\"\n",
    "    N = V.shape[0]\n",
    "    F = np.zeros(N)\n",
    "\n",
    "    for it in range(T.shape[0]):\n",
    "        K = V[T[it,:], :]\n",
    "        F[T[it,:]] += 1/3 * quadrature(f, K)\n",
    "\n",
    "    for i in B:\n",
    "        F[i] = 0.0\n",
    "\n",
    "    return F"
   ]
  },
  {
   "cell_type": "markdown",
   "metadata": {},
   "source": [
    "### 2. (3 points)\n",
    "\n",
    "Write a function `inclusion(nx, B, Bc)`, that forms the matrix representation of the inclusion operator $I_0 : V_0 \\hookrightarrow V_h$.\n",
    "\n",
    "The meshes are assumed to be Cartesian grids, where the square cells are cut along the diagonal from bottom-left to top-right.\n",
    "The fine mesh has $n_x$ vertices in each dimension ($n_x$ must be odd), and the coarse mesh has $(n_x + 1)/2$ vertices in each dimension.\n",
    "\n",
    "The matrix representation $J$ of $I_0$ should be of size $n_x^2 \\times ((n_x+1)/2)^2$.\n",
    "\n",
    "The vertices are ordered lexicographically: the index of the vertex at position $(i_x, i_y)$ in the fine grid is given by $i_x + i_y n_x$.\n",
    "Similarly for the coarse grid.\n",
    "\n",
    "The input array `B` is a list of fine boundary vertices; these rows of $J$ should be set to zero.\n",
    "The input arrow `Bc` is a list of coarse boundary vertices; these columns of $J$ should be set to zero."
   ]
  },
  {
   "cell_type": "code",
   "execution_count": 2,
   "metadata": {},
   "outputs": [],
   "source": [
    "def inclusion(nx, B, Bc):\n",
    "    nxc = int(np.ceil(nx/2))\n",
    "    J = np.zeros((nx*nx, nxc*nxc))\n",
    "    return J"
   ]
  },
  {
   "cell_type": "markdown",
   "metadata": {},
   "source": [
    "### 3. (3 points)\n",
    "\n",
    "Write a function `problem_setup(nx)` that:\n",
    "\n",
    "1. Assembles the finite element matrix $A$ and right-hand side $b$ (with $f \\equiv 1$) on the Cartesian grid with $n_x$ vertices in each dimension.\n",
    "2. Assembles the finite element matrix $A_0$ on the coarse grid with $(n_x + 1)/2$ vertices in each dimension.\n",
    "3. Forms the coarse-grid solver $B_0 = I_0 A_0^{-1} I_0^T$.\n",
    "4. Forms the vertex patch solver $B_D = \\sum_{i=1}^J I_i A_i^{-1} I_i^T$. **Note:** $B_D$ is easy to obtain from the fine-grid matrix $A$.\n",
    "5. Return the tuple $(A, b, B_0, B_D)$."
   ]
  },
  {
   "cell_type": "code",
   "execution_count": 3,
   "metadata": {},
   "outputs": [],
   "source": [
    "def problem_setup(nx):\n",
    "    # Assemble and return (A, b, B_0, B_D)\n",
    "    pass"
   ]
  },
  {
   "cell_type": "markdown",
   "metadata": {},
   "source": [
    "### 4. (3 points)\n",
    "\n",
    "For $n_x \\in \\{11, 31, 51, 71 \\}$, set up the problem using `problem_setup`, and then solve the system using (preconditioned) conjugate gradient (using the `cg` function given below) with\n",
    "\n",
    "1. No preconditioner (pass `None`).\n",
    "2. $B_D$ as a preconditioner.\n",
    "3. $B = B_0 + B_D$ as a preconditioner.\n",
    "\n",
    "Explain the results in terms of the domain decomposition theory."
   ]
  },
  {
   "cell_type": "code",
   "execution_count": 4,
   "metadata": {},
   "outputs": [],
   "source": [
    "import scipy.sparse.linalg as spla\n",
    "\n",
    "class ItCounter:\n",
    "    def __init__(self):\n",
    "        self.it = 0\n",
    "    def __call__(self, x):\n",
    "        self.it += 1\n",
    "\n",
    "def cg(A, b, preconditioner=None):\n",
    "    counter = ItCounter()\n",
    "    spla.cg(A, b, M=preconditioner, rtol=1e-7, callback=counter)\n",
    "    print(\"CG solved system in {} iterations\".format(counter.it))"
   ]
  },
  {
   "cell_type": "markdown",
   "metadata": {},
   "source": [
    "### 5. (3 points)\n",
    "\n",
    "Consider the spectrum of the operators $A$, $B_D A$, and $BA$ (with $B = B_0 + B_D$).\n",
    "\n",
    "For each matrix, what bounds do you expect on the maximum and minimum eigenvalues, and why?"
   ]
  }
 ],
 "metadata": {
  "colab": {
   "provenance": []
  },
  "kernelspec": {
   "display_name": ".venv",
   "language": "python",
   "name": "python3"
  },
  "language_info": {
   "codemirror_mode": {
    "name": "ipython",
    "version": 3
   },
   "file_extension": ".py",
   "mimetype": "text/x-python",
   "name": "python",
   "nbconvert_exporter": "python",
   "pygments_lexer": "ipython3",
   "version": "3.12.8"
  }
 },
 "nbformat": 4,
 "nbformat_minor": 0
}
