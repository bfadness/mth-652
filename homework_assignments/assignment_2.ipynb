{
 "cells": [
  {
   "cell_type": "markdown",
   "metadata": {},
   "source": [
    "# MTH 652: Advanced Numerical Analysis"
   ]
  },
  {
   "cell_type": "markdown",
   "metadata": {},
   "source": [
    "## Homework Assignment 2"
   ]
  },
  {
   "cell_type": "markdown",
   "metadata": {},
   "source": [
    "### <span style=\"color:red;\">Write your name here</span>"
   ]
  },
  {
   "cell_type": "markdown",
   "metadata": {
    "id": "d5sMJY4v8Tol"
   },
   "source": [
    "### Guidelines\n",
    "\n",
    "* Each student must complete their own assignment individually.\n",
    "  * Discussing with other students is allowed (encouraged!), but you must write your own answers and code.\n",
    "  * The use of ChatGTP, Copilot, or other AI assistants is **not allowed**\n",
    "* The code must run in Colab or JupyterHub without errors.\n",
    "  * Code that does not run will not receive any credit.\n",
    "  * I suggest double-checking that your code runs properly in a new session. Sometimes code can be broken but appear to work because of old state in the notebook."
   ]
  },
  {
   "cell_type": "markdown",
   "metadata": {},
   "source": [
    "### Google Colab Instructions\n",
    "\n",
    "* After opening this assignment in Google Colab, click on **\"Copy to Drive\"**\n",
    "* Rename the notebook to `student_name_mth_652_assignment_2.ipynb`\n",
    "    * ⚠️ In the above, replace `student_name` with your name!\n",
    "* Enter your name above (in the cell below \"Homework Assignment\")!\n",
    "* When you are ready to submit your assignment, select \"File -> Download -> Download .ipynb\" from the Colab menu\n",
    "* Upload the downloaded `.ipynb` file to Canvas"
   ]
  },
  {
   "cell_type": "markdown",
   "metadata": {},
   "source": [
    "### Assignment Goals\n",
    "\n",
    "* The purpose of this assignment is to:\n",
    "    1. Understand the role of the infinitesimal rigid motions in linear elasticity.\n",
    "    2. Study the locking phenomenon in linear elasticity using MFEM."
   ]
  },
  {
   "cell_type": "markdown",
   "metadata": {
    "vscode": {
     "languageId": "plaintext"
    }
   },
   "source": [
    "### Written Questions"
   ]
  },
  {
   "cell_type": "markdown",
   "metadata": {
    "vscode": {
     "languageId": "plaintext"
    }
   },
   "source": [
    "#### 1. (3 points)\n",
    "\n",
    "Characterize the nullspace of the symmetric gradient operator $\\nabla^s$ in $\\mathbb{R}^2$ and $\\mathbb{R}^3$.\n",
    "\n",
    "**Hint:** in $\\mathbb{R}^d$, consider functions of the form $\\boldsymbol x \\mapsto \\boldsymbol Z \\boldsymbol x$, where $\\boldsymbol Z \\in \\mathbb{K}$, which is the space of $d \\times d$ anti-symmetric matrices.\n",
    "\n",
    "Relate this nullspace to the concept of rigid body motions and explain the connection to rotation matrices."
   ]
  },
  {
   "cell_type": "markdown",
   "metadata": {
    "vscode": {
     "languageId": "plaintext"
    }
   },
   "source": [
    "#### 2. (3 points)\n",
    "\n",
    "For $\\Omega \\subseteq \\mathbb{R}^2$, show that the space $\\boldsymbol{H}^1(\\Omega)$ can be decomposed into the sum\n",
    "$$\n",
    "    \\boldsymbol{H}^1(\\Omega) = \\widehat{\\boldsymbol{H}^1}(\\Omega) + \\boldsymbol{RM}\n",
    "$$\n",
    "where\n",
    "$$\n",
    "   \\widehat{\\boldsymbol H}^k(\\Omega) = \\left\\{ \\boldsymbol v \\in \\boldsymbol H^k(\\Omega) : \\int_\\Omega \\boldsymbol v \\, dx = 0 \\ \\text{and}\\ \\int_\\Omega \\operatorname{rot} \\boldsymbol v \\, dx = 0 \\right\\}\n",
    "$$\n",
    "and $\\boldsymbol{RM}$ is the space of infinitesimal rigid-body motions.\n",
    "\n",
    "Recall that $\\operatorname{rot} \\boldsymbol v = - \\partial v_1 / \\partial y + \\partial v_2 / \\partial x$.\n",
    "\n",
    "Hint: start by defining $\\boldsymbol w = \\boldsymbol c + b (y,-x)^T$, with\n",
    "$$\n",
    "    b = \\frac{-1}{2|\\Omega|} \\int_\\Omega \\operatorname{rot} \\boldsymbol v \\, dx\n",
    "$$\n",
    "and\n",
    "$$\n",
    "    c = \\frac{1}{|\\Omega|} \\int_\\Omega (\\boldsymbol v - b(y, -x)^T) \\, dx\n",
    "$$"
   ]
  },
  {
   "cell_type": "markdown",
   "metadata": {
    "vscode": {
     "languageId": "plaintext"
    }
   },
   "source": [
    "#### 3. (3 points)\n",
    "\n",
    "In $\\mathbb{R}^2$, show that if $\\boldsymbol w \\in \\boldsymbol{RM}$ vanishes on $\\overline{\\Gamma_D}$, where $\\Gamma_D \\subseteq \\partial\\Omega$ is a nonempty open set, then $\\boldsymbol w \\equiv \\boldsymbol 0$.\n",
    "\n",
    "Hint: it suffices to consider two distinct points $\\boldsymbol x_1, \\boldsymbol x_2 \\in \\Gamma_D$."
   ]
  },
  {
   "cell_type": "markdown",
   "metadata": {},
   "source": [
    "#### 4. (3 points)\n",
    "\n",
    "Let $\\boldsymbol V_h = [W_h]^2$ denote the vector-valued piecewise-linear vector-valued finite element space on a triangulation of $\\Omega \\subseteq \\mathbb{R}^2$.\n",
    "\n",
    "Characterize the subspace consisting of $\\boldsymbol v_h \\in \\boldsymbol V_h$ such that $\\nabla \\cdot \\boldsymbol v_h = 0$.\n",
    "\n",
    "What about the space $\\boldsymbol V_h^0 = \\{ \\boldsymbol v_h \\in \\boldsymbol V_h : \\boldsymbol v_h|_{\\Gamma_D} = 0 \\}$?"
   ]
  },
  {
   "cell_type": "markdown",
   "metadata": {
    "vscode": {
     "languageId": "plaintext"
    }
   },
   "source": [
    "### Programming Questions"
   ]
  },
  {
   "cell_type": "markdown",
   "metadata": {},
   "source": [
    "#### 5. (2 points)\n",
    "\n",
    "Find the function $\\boldsymbol f(x,y)$ (depending on Lamé parameters $\\mu$ and $\\lambda$) such that\n",
    "$$\n",
    "    \\boldsymbol u(x,y) = \\begin{pmatrix}\n",
    "        -\\cos(\\pi x) \\sin(\\pi y) \\\\\n",
    "        \\sin(\\pi x) \\cos(\\pi y)\n",
    "    \\end{pmatrix}\n",
    "$$\n",
    "is the solution to the equations of linear elasticity (with, for example, pure displacement boundary conditions given by $\\boldsymbol g_D = \\boldsymbol u|_{\\partial\\Omega}$).\n",
    "\n",
    "Write a function `rhs(mu, lambda_)` that **returns a function** `f(x,y)` that evaluates $f(x,y)$."
   ]
  },
  {
   "cell_type": "code",
   "execution_count": 76,
   "metadata": {},
   "outputs": [],
   "source": [
    "import numpy as np\n",
    "\n",
    "def rhs(mu, lambda_):\n",
    "    def f(x, y):\n",
    "        return np.array([0.0, 0.0])\n",
    "    return f"
   ]
  },
  {
   "cell_type": "markdown",
   "metadata": {},
   "source": [
    "#### 6.\n",
    "\n",
    "Read and understand the following function, which solves the linear elasticity problem with displacement boundary conditions in MFEM, taking `f`, `mu`, `lambda_` and `nx` as parameters.\n",
    "\n",
    "The functions assumes that the input function $\\boldsymbol f$ is the one corresponding to the right-hand side from Problem 5.\n",
    "\n",
    "The number of Gauss-Seidel-preconditioned conjugate gradient iterations required to solve the linear system and the $L^2$-norm error compared with $\\boldsymbol u(x,y)$ are returned."
   ]
  },
  {
   "cell_type": "code",
   "execution_count": 77,
   "metadata": {},
   "outputs": [],
   "source": [
    "import mfem.ser as mfem\n",
    "\n",
    "def solve_elasticity(f, mu, lambda_, nx):\n",
    "    # Polynomial degree\n",
    "    order = 1\n",
    "\n",
    "    # Square mesh\n",
    "    mesh = mfem.Mesh(nx, nx, \"TRIANGLE\")\n",
    "    dim = mesh.Dimension()\n",
    "\n",
    "    # H^1 finite elements, with order = 1\n",
    "    fec = mfem.H1_FECollection(order, dim)\n",
    "\n",
    "    # Create the finite element space. Note that dim for the third argument\n",
    "    # creates the space V_h = [W_h]^d, where W_h is the scalar space in H^1.\n",
    "    fes = mfem.FiniteElementSpace(mesh, fec, dim)\n",
    "\n",
    "    # Get the list of essential DOFs\n",
    "    ess_tdof_list = mfem.intArray()\n",
    "    fes.GetBoundaryTrueDofs(ess_tdof_list)\n",
    "\n",
    "    # Define the Lamé parameters (constants according to the input parameters)\n",
    "    lambda_coeff = mfem.ConstantCoefficient(lambda_)\n",
    "    mu_coeff = mfem.ConstantCoefficient(mu)\n",
    "\n",
    "    # Create the elasticity bilinear form with given lambda and mu\n",
    "    a = mfem.BilinearForm(fes)\n",
    "    a.AddDomainIntegrator(mfem.ElasticityIntegrator(lambda_coeff, mu_coeff))\n",
    "    a.Assemble()\n",
    "\n",
    "    class ForceCoeff(mfem.VectorPyCoefficient):\n",
    "        def EvalValue(self, x):\n",
    "            return f(x[0], x[1])\n",
    "\n",
    "    class ExactCoeff(mfem.VectorPyCoefficient):\n",
    "        def EvalValue(self, x):\n",
    "            return np.array([\n",
    "                -np.cos(np.pi * x[0]) * np.sin(np.pi * x[1]),\n",
    "                np.sin(np.pi * x[0]) * np.cos(np.pi * x[1])\n",
    "            ])\n",
    "\n",
    "    u_coeff = ExactCoeff(2)\n",
    "\n",
    "    b = mfem.LinearForm(fes)\n",
    "    b.AddDomainIntegrator(mfem.VectorDomainLFIntegrator(ForceCoeff(2)))\n",
    "    b.Assemble()\n",
    "\n",
    "    x = mfem.GridFunction(fes)\n",
    "    x.Assign(0.0)\n",
    "\n",
    "    bdr_attr = mfem.intArray(4)\n",
    "    bdr_attr.Assign(1)\n",
    "    x.ProjectBdrCoefficient(u_coeff, bdr_attr)\n",
    "\n",
    "    # Form the linear system: eliminate boundary conditions, etc.\n",
    "    A = mfem.SparseMatrix()\n",
    "    B = mfem.Vector()\n",
    "    X = mfem.Vector()\n",
    "    a.FormLinearSystem(ess_tdof_list, x, b, A, X, B)\n",
    "\n",
    "    # Gauss-Seidel preconditioner\n",
    "    M = mfem.GSSmoother(A)\n",
    "\n",
    "    # Preconditioned conjugate-gradient solver\n",
    "    cg = mfem.CGSolver()\n",
    "    cg.SetRelTol(1e-8)\n",
    "    cg.SetMaxIter(5000)\n",
    "    cg.SetPrintLevel(0)\n",
    "    cg.SetPreconditioner(M)\n",
    "    cg.SetOperator(A)\n",
    "    cg.Mult(B, X)\n",
    "\n",
    "    a.RecoverFEMSolution(X, b, x)\n",
    "\n",
    "    # Return number of CG iterations and L2 error compared with true solution\n",
    "    return (cg.GetNumIterations(), x.ComputeL2Error(u_coeff))\n"
   ]
  },
  {
   "cell_type": "markdown",
   "metadata": {},
   "source": [
    "#### 7. Locking (6 points)\n",
    "\n",
    "Run the above function, varying the Lamé parameter $\\lambda \\in \\{ 1, 100, 10^5 \\}$ on meshes of size $n_x \\in \\{ 10, 20, 40, 80 \\}$.\n",
    "\n",
    "What can you say about the $L^2$ convergence rate for each of these cases?\n",
    "\n",
    "What happens for large $\\lambda$? Do you have a (perhaps partial) explanation for this? Is this consistent with the finite element error estimates for elliptic problems?\n",
    "\n",
    "What happens to the number of CG iterations with respect to both $n_x$ and $\\lambda$? Do you have an explanation for why this happens?"
   ]
  }
 ],
 "metadata": {
  "colab": {
   "provenance": []
  },
  "kernelspec": {
   "display_name": ".venv",
   "language": "python",
   "name": "python3"
  },
  "language_info": {
   "codemirror_mode": {
    "name": "ipython",
    "version": 3
   },
   "file_extension": ".py",
   "mimetype": "text/x-python",
   "name": "python",
   "nbconvert_exporter": "python",
   "pygments_lexer": "ipython3",
   "version": "3.12.8"
  }
 },
 "nbformat": 4,
 "nbformat_minor": 0
}
